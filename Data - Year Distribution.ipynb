{
 "cells": [
  {
   "cell_type": "code",
   "execution_count": 1,
   "id": "c8dfb23e",
   "metadata": {
    "scrolled": true
   },
   "outputs": [],
   "source": [
    "from LSTM import *\n",
    "from data_getter import *\n",
    "from mpl_toolkits.mplot3d import Axes3D\n",
    "import matplotlib.pyplot as plt\n",
    "import pandas as pd\n",
    "import numpy as np\n",
    "from IPython import display\n",
    "import pickle\n",
    "import time"
   ]
  },
  {
   "cell_type": "code",
   "execution_count": 2,
   "id": "198de987",
   "metadata": {
    "scrolled": true
   },
   "outputs": [],
   "source": [
    "directory = 'D:/archive/tensors/'"
   ]
  },
  {
   "cell_type": "code",
   "execution_count": 3,
   "id": "c9fbf30e",
   "metadata": {
    "scrolled": true
   },
   "outputs": [],
   "source": [
    "device = 'cuda'\n",
    "base_time=36000\n",
    "students_min=100\n",
    "problems_min=5"
   ]
  },
  {
   "cell_type": "code",
   "execution_count": 4,
   "id": "cee9e6e5",
   "metadata": {
    "scrolled": true
   },
   "outputs": [
    {
     "data": {
      "text/plain": [
       "Index(['uuid', 'gender', 'points', 'badges_cnt', 'first_login_date_TW',\n",
       "       'user_grade', 'user_city', 'has_teacher_cnt', 'is_self_coach',\n",
       "       'has_student_cnt', 'belongs_to_class_cnt', 'has_class_cnt'],\n",
       "      dtype='object')"
      ]
     },
     "execution_count": 4,
     "metadata": {},
     "output_type": "execute_result"
    }
   ],
   "source": [
    "path='D:/archive/'\n",
    "user_path = path+'Info_UserData.csv'\n",
    "user_chunks = pd.read_csv(user_path,nrows=10)\n",
    "user_chunks.columns"
   ]
  },
  {
   "cell_type": "code",
   "execution_count": 5,
   "id": "918f83ae",
   "metadata": {
    "scrolled": true
   },
   "outputs": [
    {
     "data": {
      "text/plain": [
       "Index(['timestamp_TW', 'uuid', 'ucid', 'upid', 'problem_number',\n",
       "       'exercise_problem_repeat_session', 'is_correct', 'total_sec_taken',\n",
       "       'total_attempt_cnt', 'used_hint_cnt', 'is_hint_used', 'is_downgrade',\n",
       "       'is_upgrade', 'level'],\n",
       "      dtype='object')"
      ]
     },
     "execution_count": 5,
     "metadata": {},
     "output_type": "execute_result"
    }
   ],
   "source": [
    "path='D:/archive/'\n",
    "user_path = path+'Log_Problem.csv'\n",
    "user_chunks = pd.read_csv(user_path,nrows=10)\n",
    "user_chunks.columns"
   ]
  },
  {
   "cell_type": "code",
   "execution_count": 6,
   "id": "882f4ada",
   "metadata": {
    "scrolled": true
   },
   "outputs": [],
   "source": [
    "users_tensor = load_tensor(directory+'users/')"
   ]
  },
  {
   "cell_type": "code",
   "execution_count": 7,
   "id": "029d5b33",
   "metadata": {
    "scrolled": false
   },
   "outputs": [
    {
     "data": {
      "text/plain": [
       "(array([ 3203.,  8324., 10052., 14720., 11568., 12760.,  6533.,  3436.,\n",
       "         1068.,  1094.]),\n",
       " array([ 1. ,  2.1,  3.2,  4.3,  5.4,  6.5,  7.6,  8.7,  9.8, 10.9, 12. ]),\n",
       " <BarContainer object of 10 artists>)"
      ]
     },
     "execution_count": 7,
     "metadata": {},
     "output_type": "execute_result"
    },
    {
     "data": {
      "image/png": "[encoded data removed]",
      "text/plain": [
       "<Figure size 640x480 with 1 Axes>"
      ]
     },
     "metadata": {},
     "output_type": "display_data"
    }
   ],
   "source": [
    "plt.title('Year Histogram')\n",
    "plt.ylabel('Students')\n",
    "plt.xlabel('Year')\n",
    "plt.hist(users_tensor[:,4].cpu().numpy())"
   ]
  },
  {
   "cell_type": "markdown",
   "id": "98149091",
   "metadata": {},
   "source": [
    "\\$ \\{E}^t =  \\it{E}^{u,t} \\vert \\it{E}^{\\alpha, t} \\vert \\it{E}^{\\beta, t} \\vert ... \\$"
   ]
  },
  {
   "cell_type": "code",
   "execution_count": null,
   "id": "3f522b5c",
   "metadata": {},
   "outputs": [],
   "source": []
  }
 ],
 "metadata": {
  "kernelspec": {
   "display_name": "Python 3 (ipykernel)",
   "language": "python",
   "name": "python3"
  },
  "language_info": {
   "codemirror_mode": {
    "name": "ipython",
    "version": 3
   },
   "file_extension": ".py",
   "mimetype": "text/x-python",
   "name": "python",
   "nbconvert_exporter": "python",
   "pygments_lexer": "ipython3",
   "version": "3.8.16"
  }
 },
 "nbformat": 4,
 "nbformat_minor": 5
}
