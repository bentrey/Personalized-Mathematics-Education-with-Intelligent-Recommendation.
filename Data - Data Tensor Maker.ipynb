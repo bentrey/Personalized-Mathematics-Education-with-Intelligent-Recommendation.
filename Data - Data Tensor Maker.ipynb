{
 "cells": [
  {
   "cell_type": "code",
   "execution_count": 1,
   "id": "0e15a6ee",
   "metadata": {},
   "outputs": [],
   "source": [
    "import torch\n",
    "import datetime\n",
    "import os\n",
    "import h5py\n",
    "import torch\n",
    "import pandas as pd\n",
    "import numpy as np\n",
    "import torch.nn as nn\n",
    "import torch.nn.functional as F\n",
    "import torch.optim as optim\n",
    "from torch.autograd import Variable\n",
    "from torch.utils.data import Dataset, DataLoader\n",
    "from torch.nn.parameter import Parameter\n",
    "from tqdm import tqdm\n",
    "from time import time\n",
    "import pickle"
   ]
  },
  {
   "cell_type": "code",
   "execution_count": 2,
   "id": "897e04c7",
   "metadata": {},
   "outputs": [
    {
     "data": {
      "text/plain": [
       "'NVIDIA GeForce GTX 1660 Ti'"
      ]
     },
     "execution_count": 2,
     "metadata": {},
     "output_type": "execute_result"
    }
   ],
   "source": [
    "device = 'cuda'\n",
    "torch.cuda.get_device_name(0)"
   ]
  },
  {
   "cell_type": "code",
   "execution_count": 3,
   "id": "99754b65",
   "metadata": {},
   "outputs": [],
   "source": [
    "def make_tensors(chunksize=10**4,path='D:/archive/'):\n",
    "    data_path = path+'Log_Problem.csv'\n",
    "    user_path = path+'Info_UserData.csv'\n",
    "    content_path = path+'Info_Content.csv'\n",
    "    data_chunks = pd.read_csv(data_path,chunksize=chunksize,iterator=True)\n",
    "    user_chunks = pd.read_csv(user_path,chunksize=chunksize,iterator=True)\n",
    "    uuidsDic = {}\n",
    "    ucidsDic = {}\n",
    "    upidsDic = {}\n",
    "    citiesDic = {}\n",
    "    genderDic = {'female':1,'male':2,'unspecified':3}\n",
    "    learningStageDic = {'elementary':1,'junior':2,'senior':3}\n",
    "    for n, chunk in tqdm(enumerate(user_chunks)):\n",
    "        chunk = chunk.drop(['first_login_date_TW','is_self_coach','has_student_cnt'],axis=1)\n",
    "        chunk['gender'] = chunk['gender'].fillna(0)\n",
    "        uuids = [x for x in chunk['uuid'].unique() if not x in uuidsDic]\n",
    "        cities = [x for x in chunk['user_city'].unique() if not x in citiesDic]\n",
    "        uuidsUpdate = {x:str(len(uuidsDic)+uuids.index(x)) for x in uuids}\n",
    "        citiesUpdate = {x:str(len(citiesDic)+cities.index(x)) for x in cities}\n",
    "        uuidsDic.update(uuidsUpdate)\n",
    "        citiesDic.update(citiesUpdate)\n",
    "        chunk = chunk.replace({'gender':genderDic})\n",
    "        chunk = chunk.replace({'uuid':uuidsDic})\n",
    "        chunk = chunk.replace({'user_city':citiesDic})\n",
    "        chunk['uuid'] = chunk['uuid'].astype('int32')\n",
    "        chunk['gender'] = chunk['gender'].astype('int32')\n",
    "        chunk['user_city'] = chunk['user_city'].astype('int32')\n",
    "        tensor = torch.tensor(chunk.values,device=device,dtype=torch.int32)\n",
    "        torch.save(tensor, path + 'tensors/users/user_tensor' + str(n) + '.pt')\n",
    "        n += 1\n",
    "    for n, chunk in tqdm(enumerate(data_chunks)):\n",
    "        chunk = chunk.drop(['is_downgrade','is_upgrade'],axis=1)\n",
    "        ucids = [x for x in chunk['ucid'].unique() if not x in ucidsDic]\n",
    "        upids = [x for x in chunk['upid'].unique() if not x in upidsDic]\n",
    "        ucidsUpdate = {x:str(len(ucidsDic)+ucids.index(x)) for x in ucids}\n",
    "        upidsUpdate = {x:str(len(upidsDic)+upids.index(x)) for x in upids}\n",
    "        ucidsDic.update(ucidsUpdate)\n",
    "        upidsDic.update(upidsUpdate)\n",
    "        chunk = chunk.replace({'uuid':uuidsDic})\n",
    "        chunk = chunk.replace({'ucid':ucidsDic})\n",
    "        chunk = chunk.replace({'upid':upidsDic})\n",
    "        chunk['uuid'] = chunk['uuid'].astype('int32')\n",
    "        chunk['ucid'] = chunk['ucid'].astype('int32')\n",
    "        chunk['upid'] = chunk['upid'].astype('int32')\n",
    "        chunk['timestamp_TW'] = chunk['timestamp_TW'].apply(lambda time: datetime.datetime.strptime(time,'%Y-%m-%d %H:%M:%S UTC').timestamp())\n",
    "        chunk['timestamp_TW'] = chunk['timestamp_TW'].astype('int32')\n",
    "        chunk['is_correct'] = chunk['is_correct'].astype('int32')\n",
    "        chunk['is_hint_used'] = chunk['is_hint_used'].astype('int32')\n",
    "        tensor = torch.tensor(chunk.values,device=device,dtype=torch.int32)\n",
    "        torch.save(tensor,path + 'tensors/data/tensor' + str(n) + '.pt')\n",
    "    dics = [uuidsDic, ucidsDic, upidsDic, citiesDic, genderDic]\n",
    "    files = ['uuids', 'ucids', 'upids', 'cities', 'gender']\n",
    "    for index, dic in enumerate(dics):\n",
    "        file = open(path+'pickles/'+files[index]+'.pkl', 'wb+')\n",
    "        pickle.dump(dic,file)\n",
    "        file.close()\n",
    "    "
   ]
  },
  {
   "cell_type": "code",
   "execution_count": 4,
   "id": "c98f1fd7",
   "metadata": {},
   "outputs": [
    {
     "name": "stderr",
     "output_type": "stream",
     "text": [
      "8it [02:12, 16.60s/it]\n",
      "1622it [16:16:24, 36.12s/it]\n"
     ]
    }
   ],
   "source": [
    "make_tensors()"
   ]
  }
 ],
 "metadata": {
  "kernelspec": {
   "display_name": "Python 3 (ipykernel)",
   "language": "python",
   "name": "python3"
  },
  "language_info": {
   "codemirror_mode": {
    "name": "ipython",
    "version": 3
   },
   "file_extension": ".py",
   "mimetype": "text/x-python",
   "name": "python",
   "nbconvert_exporter": "python",
   "pygments_lexer": "ipython3",
   "version": "3.8.16"
  }
 },
 "nbformat": 4,
 "nbformat_minor": 5
}
